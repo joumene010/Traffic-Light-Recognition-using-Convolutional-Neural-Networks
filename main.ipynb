{
 "cells": [
  {
   "cell_type": "markdown",
   "metadata": {},
   "source": [
    "# Détection des infractions au code de la route\n",
    "\n",
    "Projet réalisé par :\n",
    "- Ben Said Joumene\n",
  
   ]
  },
  {
   "cell_type": "code",
   "execution_count": 2,
   "metadata": {},
   "outputs": [],
   "source": [
    "#Import necessary Libraries\n",
    "import os\n",
    "import numpy as np\n",
    "from PIL import Image\n",
    "from sklearn.metrics import classification_report, confusion_matrix, ConfusionMatrixDisplay\n",
    "import matplotlib.pyplot as plt\n",
    "import tensorflow as tf\n",
    "from tensorflow.keras.models import Sequential\n",
    "from tensorflow.keras.layers import Conv2D, MaxPooling2D, Flatten, Dense, Dropout\n",
    "from tensorflow.keras.preprocessing.image import ImageDataGenerator\n",
    "from ultralytics import YOLO\n"
   ]
  },
  {
   "cell_type": "code",
   "execution_count": null,
   "metadata": {},
   "outputs": [],
   "source": [
    "\n",
    "# Install TensorFlow GPU\n",
    "!pip install ultralytics "
   ]
  },
  {
   "cell_type": "code",
   "execution_count": 4,
   "metadata": {},
   "outputs": [],
   "source": [
    "# Define function to crop image and extract label\n",
    "def crop_image_and_extract_label(image, label_path):\n",
    "    with open(label_path, \"r\") as label_file:\n",
    "        lines = label_file.readlines()\n",
    "        cropped_images = []\n",
    "        labels = []\n",
    "        for line in lines:\n",
    "            parts = line.strip().split()\n",
    "            class_id = int(parts[0])  # Extract the class ID as label\n",
    "            x, y, w, h = map(float, parts[1:])  # Darknet YOLO format\n",
    "            width, height = image.size\n",
    "            x_min = int((x - w / 2) * width)\n",
    "            y_min = int((y - h / 2) * height)\n",
    "            x_max = int((x + w / 2) * width)\n",
    "            y_max = int((y + h / 2) * height)\n",
    "\n",
    "            x_min = max(0, x_min)\n",
    "            y_min = max(0, y_min)\n",
    "            x_max = min(width, x_max)\n",
    "            y_max = min(height, y_max)\n",
    "\n",
    "            cropped_image = image.crop((x_min, y_min, x_max, y_max)).resize((90, 90))\n",
    "            cropped_images.append(np.array(cropped_image) / 255.0)  # Normalize pixel values\n",
    "            labels.append(class_id)\n",
    "\n",
    "        return cropped_images, labels\n",
    "\n"
   ]
  },
  {
   "cell_type": "code",
   "execution_count": 5,
   "metadata": {},
   "outputs": [],
   "source": [
    "# Define function to prepare data\n",
    "def prepare_data(data):\n",
    "    images = np.array([item[0] for item in data])\n",
    "    labels = np.array([item[1] for item in data])\n",
    "    return images, labels\n",
    "\n"
   ]
  },
  {
   "cell_type": "code",
   "execution_count": 6,
   "metadata": {},
   "outputs": [],
   "source": [
    "# Define function to fetch images and labels\n",
    "def fetch_image(data_folder):\n",
    "    train_data = []\n",
    "    test_data = []\n",
    "    valid_data = []\n",
    "    \n",
    "    splits = {\n",
    "        \"train\": os.path.join(data_folder, \"train\"),\n",
    "        \"test\": os.path.join(data_folder, \"test\"),\n",
    "        \"valid\": os.path.join(data_folder, \"valid\")\n",
    "    }\n",
    "    \n",
    "    for split_name, split_path in splits.items():\n",
    "        images_folder = os.path.join(split_path, \"images\")\n",
    "        labels_folder = os.path.join(split_path, \"labels\")\n",
    "        \n",
    "        for image_name in os.listdir(images_folder):\n",
    "            label_name = os.path.splitext(image_name)[0] + \".txt\"\n",
    "            label_path = os.path.join(labels_folder, label_name)\n",
    "            image_path = os.path.join(images_folder, image_name)\n",
    "            \n",
    "            if not os.path.exists(label_path):\n",
    "                print(f\"Warning: Label file not found for {image_name}\")\n",
    "                continue\n",
    "            \n",
    "            imgTrafficSignal = Image.open(image_path).convert(\"RGB\")\n",
    "            cropped_images, labels = crop_image_and_extract_label(imgTrafficSignal, label_path)\n",
    "\n",
    "            for cropped_image, label in zip(cropped_images, labels):\n",
    "                if split_name == \"train\":\n",
    "                    train_data.append((cropped_image, label))\n",
    "                elif split_name == \"test\":\n",
    "                    test_data.append((cropped_image, label))\n",
    "                elif split_name == \"valid\":\n",
    "                    valid_data.append((cropped_image, label))\n",
    "    \n",
    "    return train_data, test_data, valid_data\n"
   ]
  },
  {
   "cell_type": "code",
   "execution_count": 7,
   "metadata": {},
   "outputs": [
    {
     "name": "stdout",
     "output_type": "stream",
     "text": [
      "Warning: Label file not found for FisheyeCamera_1_00802_png.rf.6a502d781364b74f35bfa71832fc1ede.jpg\n",
      "Warning: Label file not found for FisheyeCamera_1_00807_png.rf.065f778b2eaf15dd7b5beb90b30c490c.jpg\n",
      "Warning: Label file not found for FisheyeCamera_1_00926_png.rf.511cfac04ff48a1fe99b560b4a4fb9e2.jpg\n",
      "Number of training images: 4298\n",
      "Number of training labels: 4298\n",
      "Number of validation images: 944\n",
      "Number of validation labels: 944\n"
     ]
    }
   ],
   "source": [
    "# Fetch and prepare data\n",
    "data_folder = \"./DataSet\"\n",
    "train_data, test_data, valid_data = fetch_image(data_folder)\n",
    "\n",
    "train_images, train_labels = prepare_data(train_data)\n",
    "valid_images, valid_labels = prepare_data(valid_data)\n",
    "\n",
    "print(\"Number of training images:\", train_images.shape[0])\n",
    "print(\"Number of training labels:\", train_labels.shape[0])\n",
    "print(\"Number of validation images:\", valid_images.shape[0])\n",
    "print(\"Number of validation labels:\", valid_labels.shape[0])\n",
    "\n",
    "# Get the number of classes\n",
    "num_classes = len(np.unique(train_labels))\n"
   ]
  },
  {
   "cell_type": "code",
   "execution_count": 8,
   "metadata": {},
   "outputs": [
    {
     "name": "stderr",
     "output_type": "stream",
     "text": [
      "c:\\Users\\Joe\\AppData\\Local\\Programs\\Python\\Python312\\Lib\\site-packages\\keras\\src\\layers\\convolutional\\base_conv.py:107: UserWarning: Do not pass an `input_shape`/`input_dim` argument to a layer. When using Sequential models, prefer using an `Input(shape)` object as the first layer in the model instead.\n",
      "  super().__init__(activity_regularizer=activity_regularizer, **kwargs)\n"
     ]
    }
   ],
   "source": [
    "\n",
    "# Define a simple CNN model\n",
    "model = Sequential()\n",
    "\n",
    "# First Layer\n",
    "model.add(Conv2D(filters=32, kernel_size=(5, 5), activation='relu', input_shape=(90, 90, 3)))  # RGB input\n",
    "model.add(Conv2D(filters=32, kernel_size=(5, 5), activation='relu'))\n",
    "model.add(MaxPooling2D(pool_size=(2, 2)))\n",
    "model.add(Dropout(rate=0.25))\n",
    "\n",
    "# Second Layer\n",
    "model.add(Conv2D(filters=64, kernel_size=(3, 3), activation='relu'))\n",
    "model.add(Conv2D(filters=64, kernel_size=(3, 3), activation='relu'))\n",
    "model.add(MaxPooling2D(pool_size=(2, 2)))\n",
    "model.add(Dropout(rate=0.25))\n",
    "\n",
    "\n",
    "# Dense Layers\n",
    "model.add(Flatten())\n",
    "model.add(Dense(256, activation='relu'))\n",
    "model.add(Dropout(rate=0.5))\n",
    "model.add(Dense(num_classes, activation='softmax'))\n",
    "\n"
   ]
  },
  {
   "cell_type": "code",
   "execution_count": 9,
   "metadata": {},
   "outputs": [
    {
     "data": {
      "text/html": [
       "<pre style=\"white-space:pre;overflow-x:auto;line-height:normal;font-family:Menlo,'DejaVu Sans Mono',consolas,'Courier New',monospace\"><span style=\"font-weight: bold\">Model: \"sequential_1\"</span>\n",
       "</pre>\n"
      ],
      "text/plain": [
       "\u001b[1mModel: \"sequential_1\"\u001b[0m\n"
      ]
     },
     "metadata": {},
     "output_type": "display_data"
    },
    {
     "data": {
      "text/html": [
       "<pre style=\"white-space:pre;overflow-x:auto;line-height:normal;font-family:Menlo,'DejaVu Sans Mono',consolas,'Courier New',monospace\">┏━━━━━━━━━━━━━━━━━━━━━━━━━━━━━━━━━┳━━━━━━━━━━━━━━━━━━━━━━━━┳━━━━━━━━━━━━━━━┓\n",
       "┃<span style=\"font-weight: bold\"> Layer (type)                    </span>┃<span style=\"font-weight: bold\"> Output Shape           </span>┃<span style=\"font-weight: bold\">       Param # </span>┃\n",
       "┡━━━━━━━━━━━━━━━━━━━━━━━━━━━━━━━━━╇━━━━━━━━━━━━━━━━━━━━━━━━╇━━━━━━━━━━━━━━━┩\n",
       "│ conv2d_4 (<span style=\"color: #0087ff; text-decoration-color: #0087ff\">Conv2D</span>)               │ (<span style=\"color: #00d7ff; text-decoration-color: #00d7ff\">None</span>, <span style=\"color: #00af00; text-decoration-color: #00af00\">86</span>, <span style=\"color: #00af00; text-decoration-color: #00af00\">86</span>, <span style=\"color: #00af00; text-decoration-color: #00af00\">32</span>)     │         <span style=\"color: #00af00; text-decoration-color: #00af00\">2,432</span> │\n",
       "├─────────────────────────────────┼────────────────────────┼───────────────┤\n",
       "│ conv2d_5 (<span style=\"color: #0087ff; text-decoration-color: #0087ff\">Conv2D</span>)               │ (<span style=\"color: #00d7ff; text-decoration-color: #00d7ff\">None</span>, <span style=\"color: #00af00; text-decoration-color: #00af00\">82</span>, <span style=\"color: #00af00; text-decoration-color: #00af00\">82</span>, <span style=\"color: #00af00; text-decoration-color: #00af00\">32</span>)     │        <span style=\"color: #00af00; text-decoration-color: #00af00\">25,632</span> │\n",
       "├─────────────────────────────────┼────────────────────────┼───────────────┤\n",
       "│ max_pooling2d_2 (<span style=\"color: #0087ff; text-decoration-color: #0087ff\">MaxPooling2D</span>)  │ (<span style=\"color: #00d7ff; text-decoration-color: #00d7ff\">None</span>, <span style=\"color: #00af00; text-decoration-color: #00af00\">41</span>, <span style=\"color: #00af00; text-decoration-color: #00af00\">41</span>, <span style=\"color: #00af00; text-decoration-color: #00af00\">32</span>)     │             <span style=\"color: #00af00; text-decoration-color: #00af00\">0</span> │\n",
       "├─────────────────────────────────┼────────────────────────┼───────────────┤\n",
       "│ dropout_3 (<span style=\"color: #0087ff; text-decoration-color: #0087ff\">Dropout</span>)             │ (<span style=\"color: #00d7ff; text-decoration-color: #00d7ff\">None</span>, <span style=\"color: #00af00; text-decoration-color: #00af00\">41</span>, <span style=\"color: #00af00; text-decoration-color: #00af00\">41</span>, <span style=\"color: #00af00; text-decoration-color: #00af00\">32</span>)     │             <span style=\"color: #00af00; text-decoration-color: #00af00\">0</span> │\n",
       "├─────────────────────────────────┼────────────────────────┼───────────────┤\n",
       "│ conv2d_6 (<span style=\"color: #0087ff; text-decoration-color: #0087ff\">Conv2D</span>)               │ (<span style=\"color: #00d7ff; text-decoration-color: #00d7ff\">None</span>, <span style=\"color: #00af00; text-decoration-color: #00af00\">39</span>, <span style=\"color: #00af00; text-decoration-color: #00af00\">39</span>, <span style=\"color: #00af00; text-decoration-color: #00af00\">64</span>)     │        <span style=\"color: #00af00; text-decoration-color: #00af00\">18,496</span> │\n",
       "├─────────────────────────────────┼────────────────────────┼───────────────┤\n",
       "│ conv2d_7 (<span style=\"color: #0087ff; text-decoration-color: #0087ff\">Conv2D</span>)               │ (<span style=\"color: #00d7ff; text-decoration-color: #00d7ff\">None</span>, <span style=\"color: #00af00; text-decoration-color: #00af00\">37</span>, <span style=\"color: #00af00; text-decoration-color: #00af00\">37</span>, <span style=\"color: #00af00; text-decoration-color: #00af00\">64</span>)     │        <span style=\"color: #00af00; text-decoration-color: #00af00\">36,928</span> │\n",
       "├─────────────────────────────────┼────────────────────────┼───────────────┤\n",
       "│ max_pooling2d_3 (<span style=\"color: #0087ff; text-decoration-color: #0087ff\">MaxPooling2D</span>)  │ (<span style=\"color: #00d7ff; text-decoration-color: #00d7ff\">None</span>, <span style=\"color: #00af00; text-decoration-color: #00af00\">18</span>, <span style=\"color: #00af00; text-decoration-color: #00af00\">18</span>, <span style=\"color: #00af00; text-decoration-color: #00af00\">64</span>)     │             <span style=\"color: #00af00; text-decoration-color: #00af00\">0</span> │\n",
       "├─────────────────────────────────┼────────────────────────┼───────────────┤\n",
       "│ dropout_4 (<span style=\"color: #0087ff; text-decoration-color: #0087ff\">Dropout</span>)             │ (<span style=\"color: #00d7ff; text-decoration-color: #00d7ff\">None</span>, <span style=\"color: #00af00; text-decoration-color: #00af00\">18</span>, <span style=\"color: #00af00; text-decoration-color: #00af00\">18</span>, <span style=\"color: #00af00; text-decoration-color: #00af00\">64</span>)     │             <span style=\"color: #00af00; text-decoration-color: #00af00\">0</span> │\n",
       "├─────────────────────────────────┼────────────────────────┼───────────────┤\n",
       "│ flatten_1 (<span style=\"color: #0087ff; text-decoration-color: #0087ff\">Flatten</span>)             │ (<span style=\"color: #00d7ff; text-decoration-color: #00d7ff\">None</span>, <span style=\"color: #00af00; text-decoration-color: #00af00\">20736</span>)          │             <span style=\"color: #00af00; text-decoration-color: #00af00\">0</span> │\n",
       "├─────────────────────────────────┼────────────────────────┼───────────────┤\n",
       "│ dense_1 (<span style=\"color: #0087ff; text-decoration-color: #0087ff\">Dense</span>)                 │ (<span style=\"color: #00d7ff; text-decoration-color: #00d7ff\">None</span>, <span style=\"color: #00af00; text-decoration-color: #00af00\">256</span>)            │     <span style=\"color: #00af00; text-decoration-color: #00af00\">5,308,672</span> │\n",
       "├─────────────────────────────────┼────────────────────────┼───────────────┤\n",
       "│ dropout_5 (<span style=\"color: #0087ff; text-decoration-color: #0087ff\">Dropout</span>)             │ (<span style=\"color: #00d7ff; text-decoration-color: #00d7ff\">None</span>, <span style=\"color: #00af00; text-decoration-color: #00af00\">256</span>)            │             <span style=\"color: #00af00; text-decoration-color: #00af00\">0</span> │\n",
       "├─────────────────────────────────┼────────────────────────┼───────────────┤\n",
       "│ dense_2 (<span style=\"color: #0087ff; text-decoration-color: #0087ff\">Dense</span>)                 │ (<span style=\"color: #00d7ff; text-decoration-color: #00d7ff\">None</span>, <span style=\"color: #00af00; text-decoration-color: #00af00\">15</span>)             │         <span style=\"color: #00af00; text-decoration-color: #00af00\">3,855</span> │\n",
       "└─────────────────────────────────┴────────────────────────┴───────────────┘\n",
       "</pre>\n"
      ],
      "text/plain": [
       "┏━━━━━━━━━━━━━━━━━━━━━━━━━━━━━━━━━┳━━━━━━━━━━━━━━━━━━━━━━━━┳━━━━━━━━━━━━━━━┓\n",
       "┃\u001b[1m \u001b[0m\u001b[1mLayer (type)                   \u001b[0m\u001b[1m \u001b[0m┃\u001b[1m \u001b[0m\u001b[1mOutput Shape          \u001b[0m\u001b[1m \u001b[0m┃\u001b[1m \u001b[0m\u001b[1m      Param #\u001b[0m\u001b[1m \u001b[0m┃\n",
       "┡━━━━━━━━━━━━━━━━━━━━━━━━━━━━━━━━━╇━━━━━━━━━━━━━━━━━━━━━━━━╇━━━━━━━━━━━━━━━┩\n",
       "│ conv2d_4 (\u001b[38;5;33mConv2D\u001b[0m)               │ (\u001b[38;5;45mNone\u001b[0m, \u001b[38;5;34m86\u001b[0m, \u001b[38;5;34m86\u001b[0m, \u001b[38;5;34m32\u001b[0m)     │         \u001b[38;5;34m2,432\u001b[0m │\n",
       "├─────────────────────────────────┼────────────────────────┼───────────────┤\n",
       "│ conv2d_5 (\u001b[38;5;33mConv2D\u001b[0m)               │ (\u001b[38;5;45mNone\u001b[0m, \u001b[38;5;34m82\u001b[0m, \u001b[38;5;34m82\u001b[0m, \u001b[38;5;34m32\u001b[0m)     │        \u001b[38;5;34m25,632\u001b[0m │\n",
       "├─────────────────────────────────┼────────────────────────┼───────────────┤\n",
       "│ max_pooling2d_2 (\u001b[38;5;33mMaxPooling2D\u001b[0m)  │ (\u001b[38;5;45mNone\u001b[0m, \u001b[38;5;34m41\u001b[0m, \u001b[38;5;34m41\u001b[0m, \u001b[38;5;34m32\u001b[0m)     │             \u001b[38;5;34m0\u001b[0m │\n",
       "├─────────────────────────────────┼────────────────────────┼───────────────┤\n",
       "│ dropout_3 (\u001b[38;5;33mDropout\u001b[0m)             │ (\u001b[38;5;45mNone\u001b[0m, \u001b[38;5;34m41\u001b[0m, \u001b[38;5;34m41\u001b[0m, \u001b[38;5;34m32\u001b[0m)     │             \u001b[38;5;34m0\u001b[0m │\n",
       "├─────────────────────────────────┼────────────────────────┼───────────────┤\n",
       "│ conv2d_6 (\u001b[38;5;33mConv2D\u001b[0m)               │ (\u001b[38;5;45mNone\u001b[0m, \u001b[38;5;34m39\u001b[0m, \u001b[38;5;34m39\u001b[0m, \u001b[38;5;34m64\u001b[0m)     │        \u001b[38;5;34m18,496\u001b[0m │\n",
       "├─────────────────────────────────┼────────────────────────┼───────────────┤\n",
       "│ conv2d_7 (\u001b[38;5;33mConv2D\u001b[0m)               │ (\u001b[38;5;45mNone\u001b[0m, \u001b[38;5;34m37\u001b[0m, \u001b[38;5;34m37\u001b[0m, \u001b[38;5;34m64\u001b[0m)     │        \u001b[38;5;34m36,928\u001b[0m │\n",
       "├─────────────────────────────────┼────────────────────────┼───────────────┤\n",
       "│ max_pooling2d_3 (\u001b[38;5;33mMaxPooling2D\u001b[0m)  │ (\u001b[38;5;45mNone\u001b[0m, \u001b[38;5;34m18\u001b[0m, \u001b[38;5;34m18\u001b[0m, \u001b[38;5;34m64\u001b[0m)     │             \u001b[38;5;34m0\u001b[0m │\n",
       "├─────────────────────────────────┼────────────────────────┼───────────────┤\n",
       "│ dropout_4 (\u001b[38;5;33mDropout\u001b[0m)             │ (\u001b[38;5;45mNone\u001b[0m, \u001b[38;5;34m18\u001b[0m, \u001b[38;5;34m18\u001b[0m, \u001b[38;5;34m64\u001b[0m)     │             \u001b[38;5;34m0\u001b[0m │\n",
       "├─────────────────────────────────┼────────────────────────┼───────────────┤\n",
       "│ flatten_1 (\u001b[38;5;33mFlatten\u001b[0m)             │ (\u001b[38;5;45mNone\u001b[0m, \u001b[38;5;34m20736\u001b[0m)          │             \u001b[38;5;34m0\u001b[0m │\n",
       "├─────────────────────────────────┼────────────────────────┼───────────────┤\n",
       "│ dense_1 (\u001b[38;5;33mDense\u001b[0m)                 │ (\u001b[38;5;45mNone\u001b[0m, \u001b[38;5;34m256\u001b[0m)            │     \u001b[38;5;34m5,308,672\u001b[0m │\n",
       "├─────────────────────────────────┼────────────────────────┼───────────────┤\n",
       "│ dropout_5 (\u001b[38;5;33mDropout\u001b[0m)             │ (\u001b[38;5;45mNone\u001b[0m, \u001b[38;5;34m256\u001b[0m)            │             \u001b[38;5;34m0\u001b[0m │\n",
       "├─────────────────────────────────┼────────────────────────┼───────────────┤\n",
       "│ dense_2 (\u001b[38;5;33mDense\u001b[0m)                 │ (\u001b[38;5;45mNone\u001b[0m, \u001b[38;5;34m15\u001b[0m)             │         \u001b[38;5;34m3,855\u001b[0m │\n",
       "└─────────────────────────────────┴────────────────────────┴───────────────┘\n"
      ]
     },
     "metadata": {},
     "output_type": "display_data"
    },
    {
     "data": {
      "text/html": [
       "<pre style=\"white-space:pre;overflow-x:auto;line-height:normal;font-family:Menlo,'DejaVu Sans Mono',consolas,'Courier New',monospace\"><span style=\"font-weight: bold\"> Total params: </span><span style=\"color: #00af00; text-decoration-color: #00af00\">5,396,015</span> (20.58 MB)\n",
       "</pre>\n"
      ],
      "text/plain": [
       "\u001b[1m Total params: \u001b[0m\u001b[38;5;34m5,396,015\u001b[0m (20.58 MB)\n"
      ]
     },
     "metadata": {},
     "output_type": "display_data"
    },
    {
     "data": {
      "text/html": [
       "<pre style=\"white-space:pre;overflow-x:auto;line-height:normal;font-family:Menlo,'DejaVu Sans Mono',consolas,'Courier New',monospace\"><span style=\"font-weight: bold\"> Trainable params: </span><span style=\"color: #00af00; text-decoration-color: #00af00\">5,396,015</span> (20.58 MB)\n",
       "</pre>\n"
      ],
      "text/plain": [
       "\u001b[1m Trainable params: \u001b[0m\u001b[38;5;34m5,396,015\u001b[0m (20.58 MB)\n"
      ]
     },
     "metadata": {},
     "output_type": "display_data"
    },
    {
     "data": {
      "text/html": [
       "<pre style=\"white-space:pre;overflow-x:auto;line-height:normal;font-family:Menlo,'DejaVu Sans Mono',consolas,'Courier New',monospace\"><span style=\"font-weight: bold\"> Non-trainable params: </span><span style=\"color: #00af00; text-decoration-color: #00af00\">0</span> (0.00 B)\n",
       "</pre>\n"
      ],
      "text/plain": [
       "\u001b[1m Non-trainable params: \u001b[0m\u001b[38;5;34m0\u001b[0m (0.00 B)\n"
      ]
     },
     "metadata": {},
     "output_type": "display_data"
    }
   ],
   "source": [
    "model.summary()"
   ]
  },
  {
   "cell_type": "code",
   "execution_count": 10,
   "metadata": {},
   "outputs": [
    {
     "name": "stdout",
     "output_type": "stream",
     "text": [
      "Epoch 1/10\n",
      "135/135 [==============================] - 251s 2s/step - loss: 1.9330 - accuracy: 0.3958 - val_loss: 0.8349 - val_accuracy: 0.7786\n",
      "Epoch 2/10\n",
      "135/135 [==============================] - 205s 2s/step - loss: 0.9810 - accuracy: 0.7117 - val_loss: 0.5264 - val_accuracy: 0.8686\n",
      "Epoch 3/10\n",
      "135/135 [==============================] - 233s 2s/step - loss: 0.6915 - accuracy: 0.7892 - val_loss: 0.4924 - val_accuracy: 0.8623\n",
      "Epoch 4/10\n",
      "135/135 [==============================] - 394s 3s/step - loss: 0.5576 - accuracy: 0.8313 - val_loss: 0.3778 - val_accuracy: 0.8898\n",
      "Epoch 5/10\n",
      "135/135 [==============================] - 452s 3s/step - loss: 0.4575 - accuracy: 0.8613 - val_loss: 0.3458 - val_accuracy: 0.9089\n",
      "Epoch 6/10\n",
      "135/135 [==============================] - 607s 5s/step - loss: 0.3938 - accuracy: 0.8760 - val_loss: 0.3209 - val_accuracy: 0.9163\n",
      "Epoch 7/10\n",
      "135/135 [==============================] - 251s 2s/step - loss: 0.3506 - accuracy: 0.8906 - val_loss: 0.3168 - val_accuracy: 0.9089\n",
      "Epoch 8/10\n",
      "135/135 [==============================] - 241s 2s/step - loss: 0.3271 - accuracy: 0.8951 - val_loss: 0.3112 - val_accuracy: 0.9227\n",
      "Epoch 9/10\n",
      "135/135 [==============================] - 255s 2s/step - loss: 0.3211 - accuracy: 0.9011 - val_loss: 0.3886 - val_accuracy: 0.8994\n",
      "Epoch 10/10\n",
      "135/135 [==============================] - 259s 2s/step - loss: 0.3533 - accuracy: 0.8890 - val_loss: 0.3785 - val_accuracy: 0.9025\n"
     ]
    }
   ],
   "source": [
    "# Compile the model\n",
    "model.compile(optimizer='adam', loss='sparse_categorical_crossentropy', metrics=['accuracy'])\n",
    "\n",
    "# Expand dimensions for images\n",
    "train_images = np.expand_dims(train_images, axis=-1)  # Add channel dimension\n",
    "valid_images = np.expand_dims(valid_images, axis=-1)\n",
    "\n",
    "# Train the model\n",
    "history = model.fit(\n",
    "    train_images, train_labels,\n",
    "    validation_data=(valid_images, valid_labels),\n",
    "    epochs=10,\n",
    "    batch_size=32\n",
    ")\n",
    "\n"
   ]
  },
  {
   "cell_type": "code",
   "execution_count": 11,
   "metadata": {},
   "outputs": [
    {
     "name": "stderr",
     "output_type": "stream",
     "text": [
      "c:\\Users\\Joe\\anaconda3\\envs\\newEnv\\lib\\site-packages\\keras\\src\\engine\\training.py:3000: UserWarning: You are saving your model as an HDF5 file via `model.save()`. This file format is considered legacy. We recommend using instead the native Keras format, e.g. `model.save('my_model.keras')`.\n",
      "  saving_api.save_model(\n"
     ]
    }
   ],
   "source": [
    "# Save the trained model\n",
    "model.save(\"model.h5\")"
   ]
  },
  {
   "cell_type": "code",
   "execution_count": 12,
   "metadata": {},
   "outputs": [
    {
     "name": "stdout",
     "output_type": "stream",
     "text": [
      "30/30 [==============================] - 10s 306ms/step\n",
      "              precision    recall  f1-score   support\n",
      "\n",
      "           0       1.00      0.79      0.88       122\n",
      "           1       0.73      1.00      0.84       108\n",
      "           3       0.92      0.90      0.91        52\n",
      "           4       0.76      0.76      0.76        17\n",
      "           5       0.98      0.92      0.95        60\n",
      "           6       0.98      0.91      0.94        56\n",
      "           7       0.93      0.89      0.91        74\n",
      "           8       0.93      0.96      0.95        55\n",
      "           9       0.87      0.92      0.89        71\n",
      "          10       0.98      0.86      0.92        76\n",
      "          11       0.96      0.96      0.96        78\n",
      "          12       0.77      0.91      0.84        56\n",
      "          13       0.93      0.68      0.79        38\n",
      "          14       1.00      1.00      1.00        81\n",
      "\n",
      "   micro avg       0.90      0.90      0.90       944\n",
      "   macro avg       0.91      0.89      0.90       944\n",
      "weighted avg       0.92      0.90      0.90       944\n",
      "\n",
      "25/25 [==============================] - 7s 269ms/step\n"
     ]
    },
    {
     "data": {
      "image/png": "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",
      "text/plain": [
       "<Figure size 640x480 with 2 Axes>"
      ]
     },
     "metadata": {},
     "output_type": "display_data"
    },
    {
     "name": "stdout",
     "output_type": "stream",
     "text": [
      "Classification Report - Test Set:\n",
      "              precision    recall  f1-score   support\n",
      "\n",
      "           0       0.99      0.85      0.92       110\n",
      "           1       0.70      0.96      0.81        94\n",
      "           2       0.33      0.33      0.33         3\n",
      "           3       0.98      0.91      0.94        46\n",
      "           4       0.84      0.76      0.80        21\n",
      "           5       0.95      0.93      0.94        44\n",
      "           6       0.96      0.98      0.97        46\n",
      "           7       0.96      0.82      0.88        60\n",
      "           8       0.94      0.89      0.91        53\n",
      "           9       0.83      0.86      0.84        50\n",
      "          10       0.95      0.80      0.87        45\n",
      "          11       0.87      0.89      0.88        53\n",
      "          12       0.82      0.89      0.85        61\n",
      "          13       0.87      0.79      0.83        34\n",
      "          14       1.00      0.98      0.99        50\n",
      "\n",
      "    accuracy                           0.88       770\n",
      "   macro avg       0.87      0.84      0.85       770\n",
      "weighted avg       0.90      0.88      0.89       770\n",
      "\n"
     ]
    }
   ],
   "source": [
    "# Evaluate the model on the validation set\n",
    "\n",
    "valid_predictions = np.argmax(model.predict(valid_images), axis=1)\n",
    "\n",
    "# Generate unique class names based on the dataset\n",
    "unique_classes = sorted(np.unique(valid_labels))\n",
    "target_names = [str(cls) for cls in unique_classes]\n",
    "\n",
    "# Classification report\n",
    "print(classification_report(valid_labels, valid_predictions, labels=unique_classes, target_names=target_names))\n",
    "\n",
    "# Prepare the test data\n",
    "test_images, test_labels = prepare_data(test_data)\n",
    "\n",
    "# Evaluate the model on the test set\n",
    "test_predictions = np.argmax(model.predict(test_images), axis=1)\n",
    "\n",
    "# Generate the confusion matrix\n",
    "unique_classes_test = sorted(np.unique(np.concatenate([test_labels, test_predictions])))\n",
    "target_names_test = [str(cls) for cls in unique_classes_test]\n",
    "conf_matrix = confusion_matrix(test_labels, test_predictions, labels=unique_classes_test)\n",
    "\n",
    "# Display the confusion matrix\n",
    "disp = ConfusionMatrixDisplay(confusion_matrix=conf_matrix, display_labels=unique_classes_test)\n",
    "disp.plot(cmap=plt.cm.Blues, xticks_rotation='vertical')\n",
    "plt.title(\"Confusion Matrix - Test Set\")\n",
    "plt.show()\n",
    "\n",
    "# Generate classification report for the test set\n",
    "print(\"Classification Report - Test Set:\")\n",
    "print(classification_report(test_labels, test_predictions, labels=unique_classes_test, target_names=target_names_test))\n"
   ]
  },
  {
   "cell_type": "code",
   "execution_count": null,
   "metadata": {},
   "outputs": [],
   "source": []
  },
  {
   "cell_type": "code",
   "execution_count": 16,
   "metadata": {},
   "outputs": [],
   "source": [
    "# Define class names\n",
    "class_names=classes =['Green Light', 'Red Light', 'Speed Limit 10', 'Speed Limit 100', 'Speed Limit 110', 'Speed Limit 120', 'Speed Limit 20', 'Speed Limit 30', 'Speed Limit 40', 'Speed Limit 50', 'Speed Limit 60', 'Speed Limit 70', 'Speed Limit 80', 'Speed Limit 90', 'Stop']\n",
    "\n",
    "\n"
   ]
  },
  {
   "cell_type": "code",
   "execution_count": 28,
   "metadata": {},
   "outputs": [
    {
     "name": "stdout",
     "output_type": "stream",
     "text": [
      "PRO TIP  Replace 'model=yolov5s.pt' with new 'model=yolov5su.pt'.\n",
      "YOLOv5 'u' models are trained with https://github.com/ultralytics/ultralytics and feature improved performance vs standard YOLOv5 models trained with https://github.com/ultralytics/yolov5.\n",
      "\n",
      "\n",
      "image 1/1 c:\\Users\\Joe\\Desktop\\ProjetIA\\29mph.jpg: 480x640 1 stop sign, 196.3ms\n",
      "Speed: 4.0ms preprocess, 196.3ms inference, 5.0ms postprocess per image at shape (1, 3, 480, 640)\n",
      "Cropped image saved as 'cropped_image_detected.png'.\n"
     ]
    }
   ],
   "source": [
    "# Detect and crop image using YOLO model\n",
    "def detect_and_crop(image_path, yolo_model):\n",
    "    \"\"\"\n",
    "    Detect objects in the image using YOLO, crop the relevant part, and return the cropped image.\n",
    "    \"\"\"\n",
    "    results = yolo_model(image_path)\n",
    "    img = Image.open(image_path).convert(\"RGB\")\n",
    "\n",
    "    for box, cls in zip(results[0].boxes.xyxy, results[0].boxes.cls):\n",
    "        x_min, y_min, x_max, y_max = map(int, box.tolist())\n",
    "\n",
    "        # Crop the region specified by the bounding box\n",
    "        cropped_img = img.crop((x_min, y_min, x_max, y_max))\n",
    "        cropped_img = cropped_img.resize((90, 90))\n",
    "\n",
    "        # Return the first relevant cropped image\n",
    "        return cropped_img\n",
    "\n",
    "    print(\"No relevant objects detected in the image.\")\n",
    "    return None\n",
    "\n",
    "# Example usage\n",
    "# Initialize YOLO model\n",
    "yolo_model = YOLO(\"yolov5s.pt\")\n",
    "\n",
    "image_path = \"./29mph.jpg\"\n",
    "cropped_image = detect_and_crop(image_path, yolo_model)\n",
    "\n",
    "if cropped_image:\n",
    "    cropped_image.save(\"cropped_image_detected.png\")\n",
    "    print(\"Cropped image saved as 'cropped_image_detected.png'.\")"
   ]
  },
  {
   "cell_type": "code",
   "execution_count": 22,
   "metadata": {},
   "outputs": [],
   "source": [
    "\n",
    "# Predict class of the cropped image\n",
    "def predict_image_class(image_path, model, class_names):\n",
    "    try:\n",
    "        # Open and preprocess the image\n",
    "        image = Image.open(image_path).convert(\"RGB\")\n",
    "        image = image.resize((90, 90))  # Ensure size matches model input\n",
    "        image_array = np.array(image) / 255.0  # Normalize pixel values\n",
    "        image_array = np.expand_dims(image_array, axis=0)  # Add batch dimension\n",
    "        \n",
    "        # Predict using the model\n",
    "        predictions = model.predict(image_array)\n",
    "        predicted_class = np.argmax(predictions, axis=1)[0]\n",
    "        return class_names[predicted_class]\n",
    "    except Exception as e:\n",
    "        print(f\"Error during prediction: {e}\")\n",
    "        return None\n"
   ]
  },
  {
   "cell_type": "code",
   "execution_count": 29,
   "metadata": {},
   "outputs": [
    {
     "name": "stdout",
     "output_type": "stream",
     "text": [
      "1/1 [==============================] - 0s 34ms/step\n",
      "The predicted class is: Speed Limit 20\n"
     ]
    }
   ],
   "source": [
    "image_path = \"./cropped_image_detected.png\"\n",
    "# Predict the class\n",
    "predicted_class = predict_image_class(image_path, model, class_names)\n",
    "\n",
    "\n",
    "# Output the prediction\n",
    "print(f\"The predicted class is: {predicted_class}\")"
   ]
  },
  {
   "cell_type": "markdown",
   "metadata": {},
   "source": [
    "\"C:\\Users\\Joe\\Desktop\\ProjetIA\\DataSet\\valid\\images\\\""
   ]
  }
 ],
 "metadata": {
  "kernelspec": {
   "display_name": "Python 3",
   "language": "python",
   "name": "python3"
  },
  "language_info": {
   "codemirror_mode": {
    "name": "ipython",
    "version": 3
   },
   "file_extension": ".py",
   "mimetype": "text/x-python",
   "name": "python",
   "nbconvert_exporter": "python",
   "pygments_lexer": "ipython3",
   "version": "3.12.1"
  }
 },
 "nbformat": 4,
 "nbformat_minor": 2
}
